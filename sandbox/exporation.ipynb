{
 "cells": [
  {
   "cell_type": "code",
   "execution_count": 36,
   "metadata": {},
   "outputs": [],
   "source": [
    "import requests\n",
    "import json"
   ]
  },
  {
   "attachments": {},
   "cell_type": "markdown",
   "metadata": {},
   "source": [
    "```\n",
    "curl 'https://bettingdata.com/MLB_Odds/Odds_Read' \\\n",
    "  \"authority: bettingdata.com' \\\n",
    "  \"accept: application/json, text/plain, */*' \\\n",
    "  \"accept-language: en-US,en;q=0.9,ht;q=0.8' \\\n",
    "  \"cache-control: no-cache' \\\n",
    "  \"content-type: application/json;charset=UTF-8' \\\n",
    "  \"cookie: _ga=GA1.1.1079793625.1684695553; _cioanonid=71c0d511-b820-930e-c137-1f2175ec4eec; __adroll_fpc=6f2ab55c2f2dd3849eb39eef30ab3e42-1684695553796; _fbp=fb.1.1684695553952.700964659; _ga_QXY5NYRE7Q=GS1.1.1684695552.1.1.1684695842.0.0.0; __ar_v4=NHFCO3TELVGCHHJD5FHXVD%3A20230520%3A3%7CZUS4OCBXGBDWLCGQSOCSQN%3A20230520%3A3%7C2YUP7TATPFC7XD6D2GIARW%3A20230520%3A3' \\\n",
    "  \"origin: https://bettingdata.com' \\\n",
    "  \"pragma: no-cache' \\\n",
    "  \"referer: https://bettingdata.com/mlb/moneyline?scope=2&subscope=1&season=2023&seasontype=1&date=05-20-2023&teamkey=ARI&client=1&state=WORLD&league=mlb&widget_scope=1' \\\n",
    "  \"sec-ch-ua: \"Chromium\";v=\"110\", \"Not A(Brand\";v=\"24\", \"Google Chrome\";v=\"110\"' \\\n",
    "  \"sec-ch-ua-mobile: ?0' \\\n",
    "  \"sec-ch-ua-platform: \"macOS\"' \\\n",
    "  \"sec-fetch-dest: empty' \\\n",
    "  \"sec-fetch-mode: cors' \\\n",
    "  \"sec-fetch-site: same-origin' \\\n",
    "  \"user-agent: Mozilla/5.0 (Macintosh; Intel Mac OS X 10_15_7) AppleWebKit/537.36 (KHTML, like Gecko) Chrome/110.0.0.0 Safari/537.36' \\\n",
    "  --data-raw '{\"filters\":{\"scope\":2,\"subscope\":1,\"week\":null,\"season\":2023,\"seasontype\":1,\"team\":null,\"conference\":null,\"exportType\":null,\"date\":\"05-20-2023\",\"teamkey\":\"ARI\",\"show_no_odds\":false,\"client\":1,\"state\":\"WORLD\",\"geo_state\":null,\"league\":\"mlb\",\"widget_scope\":1}}' \\\n",
    "  --compressed\n",
    "```"
   ]
  },
  {
   "cell_type": "code",
   "execution_count": 31,
   "metadata": {},
   "outputs": [],
   "source": [
    "\n",
    "import requests\n",
    "\n",
    "cookies = {\n",
    "    '_ga': 'GA1.1.1079793625.1684695553',\n",
    "    '_cioanonid': '71c0d511-b820-930e-c137-1f2175ec4eec',\n",
    "    '__adroll_fpc': '6f2ab55c2f2dd3849eb39eef30ab3e42-1684695553796',\n",
    "    '_fbp': 'fb.1.1684695553952.700964659',\n",
    "    '_ga_QXY5NYRE7Q': 'GS1.1.1684695552.1.1.1684695842.0.0.0',\n",
    "    '__ar_v4': 'NHFCO3TELVGCHHJD5FHXVD%3A20230520%3A3%7CZUS4OCBXGBDWLCGQSOCSQN%3A20230520%3A3%7C2YUP7TATPFC7XD6D2GIARW%3A20230520%3A3',\n",
    "}\n",
    "\n",
    "headers = {\n",
    "    'authority': 'bettingdata.com',\n",
    "    'accept': 'application/json, text/plain, */*',\n",
    "    'accept-language': 'en-US,en;q=0.9,ht;q=0.8',\n",
    "    'cache-control': 'no-cache',\n",
    "    'content-type': 'application/json;charset=UTF-8',\n",
    "    'origin': 'https://bettingdata.com',\n",
    "    'pragma': 'no-cache',\n",
    "    'referer': 'https://bettingdata.com/mlb/moneyline?scope=2&subscope=1&season=2023&seasontype=1&date=05-21-2023&teamkey=ARI&client=1&state=WORLD&league=mlb&widget_scope=1',\n",
    "    'sec-ch-ua': '\"Chromium\";v=\"110\", \"Not A(Brand\";v=\"24\", \"Google Chrome\";v=\"110\"',\n",
    "    'sec-ch-ua-mobile': '?0',\n",
    "    'sec-ch-ua-platform': '\"macOS\"',\n",
    "    'sec-fetch-dest': 'empty',\n",
    "    'sec-fetch-mode': 'cors',\n",
    "    'sec-fetch-site': 'same-origin',\n",
    "    'user-agent': 'Mozilla/5.0 (Macintosh; Intel Mac OS X 10_15_7) AppleWebKit/537.36 (KHTML, like Gecko) Chrome/110.0.0.0 Safari/537.36',\n",
    "}\n",
    "\n",
    "json_data = {\n",
    "    'filters': {\n",
    "        'scope': 2,\n",
    "        'subscope': 1,\n",
    "        'week': None,\n",
    "        'season': 2023,\n",
    "        'seasontype': 1,\n",
    "        'team': None,\n",
    "        'conference': None,\n",
    "        'exportType': None,\n",
    "        'date': '05-21-2023',\n",
    "        'teamkey': 'ARI',\n",
    "        'show_no_odds': False,\n",
    "        'client': 1,\n",
    "        'state': 'WORLD',\n",
    "        'geo_state': None,\n",
    "        'league': 'mlb',\n",
    "        'widget_scope': 1,\n",
    "    },\n",
    "}\n",
    "\n",
    "response = requests.post('https://bettingdata.com/MLB_Odds/Odds_Read', cookies=cookies, headers=headers, json=json_data)"
   ]
  },
  {
   "cell_type": "code",
   "execution_count": 32,
   "metadata": {},
   "outputs": [],
   "source": [
    "resp_json = response.json()"
   ]
  },
  {
   "cell_type": "code",
   "execution_count": 40,
   "metadata": {},
   "outputs": [
    {
     "name": "stdout",
     "output_type": "stream",
     "text": [
      "{\n",
      "    \"game_date\": \"5/21/23\",\n",
      "    \"home_team\": \"Cincinnati Reds\",\n",
      "    \"home_team_loc\": \"Cincinnati\",\n",
      "    \"home_team_name\": \"Reds\",\n",
      "    \"home_team_abrv\": \"CIN\",\n",
      "    \"home_moneyline\": 115,\n",
      "    \"home_run_line\": 1.5,\n",
      "    \"home_run_line_payout\": -144,\n",
      "    \"away_team\": \"New York Yankees\",\n",
      "    \"away_team_loc\": \"New York\",\n",
      "    \"away_team_name\": \"Yankees\",\n",
      "    \"away_team_abrv\": \"NYY\",\n",
      "    \"away_moneyline\": -135,\n",
      "    \"away_run_line\": -1.5,\n",
      "    \"away_run_line_payout\": 119,\n",
      "    \"over_under\": 8.5,\n",
      "    \"over\": -115,\n",
      "    \"under\": -105\n",
      "}\n"
     ]
    }
   ],
   "source": [
    "team_json = {}\n",
    "\n",
    "game_json = resp_json[\"Scores\"]\n",
    "team_json[\"game_date\"] = game_json[\"DayString\"]\n",
    "team_json[\"home_team\"] = game_json[\"HomeTeamDetails\"][\"FullName\"]\n",
    "team_json[\"home_team_loc\"] = game_json[\"HomeTeamDetails\"][\"City\"]\n",
    "team_json[\"home_team_name\"] = game_json[\"HomeTeamDetails\"][\"Name\"]\n",
    "team_json[\"home_team_abrv\"] = game_json[\"HomeTeam\"]\n",
    "team_json[\"home_moneyline\"] = game_json[\"Consensus\"][\"HomeMoneyLine\"]\n",
    "team_json[\"home_run_line\"] = game_json[\"Consensus\"][\"HomePointSpread\"]\n",
    "team_json[\"home_run_line_payout\"] = game_json[\"Consensus\"][\"HomePointSpreadPayout\"]\n",
    "\n",
    "team_json[\"away_team\"] = game_json[\"AwayTeamDetails\"][\"FullName\"]\n",
    "team_json[\"away_team_loc\"] = game_json[\"AwayTeamDetails\"][\"City\"]\n",
    "team_json[\"away_team_name\"] = game_json[\"AwayTeamDetails\"][\"Name\"]\n",
    "team_json[\"away_team_abrv\"] = game_json[\"AwayTeam\"]\n",
    "team_json[\"away_moneyline\"] = game_json[\"Consensus\"][\"AwayMoneyLine\"]\n",
    "team_json[\"away_run_line\"] = game_json[\"Consensus\"][\"AwayPointSpread\"]\n",
    "team_json[\"away_run_line_payout\"] = game_json[\"Consensus\"][\"AwayPointSpreadPayout\"]\n",
    "\n",
    "team_json[\"over_under\"] = game_json[\"Consensus\"][\"OverUnder\"]\n",
    "team_json[\"over\"] = game_json[\"Consensus\"][\"OverPayout\"]\n",
    "team_json[\"under\"] = game_json[\"Consensus\"][\"UnderPayout\"]\n",
    "\n",
    "# odds_json = game_json[\"Consensus\"]\n",
    "# odds_json[\"home_moneyline\"]\n",
    "# odds_json[\"away_moneyline\"]\n",
    "print(json.dumps(team_json, indent=4))\n",
    "# game_json[\"Consensus\"]"
   ]
  }
 ],
 "metadata": {
  "kernelspec": {
   "display_name": "notebooks_venv",
   "language": "python",
   "name": "python3"
  },
  "language_info": {
   "codemirror_mode": {
    "name": "ipython",
    "version": 3
   },
   "file_extension": ".py",
   "mimetype": "text/x-python",
   "name": "python",
   "nbconvert_exporter": "python",
   "pygments_lexer": "ipython3",
   "version": "3.10.10"
  },
  "orig_nbformat": 4
 },
 "nbformat": 4,
 "nbformat_minor": 2
}
